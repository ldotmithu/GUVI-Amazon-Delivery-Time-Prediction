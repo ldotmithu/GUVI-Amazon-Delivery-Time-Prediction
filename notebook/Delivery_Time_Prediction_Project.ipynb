{
 "cells": [
  {
   "cell_type": "code",
   "execution_count": 1,
   "id": "9ea226e1",
   "metadata": {},
   "outputs": [],
   "source": [
    "import pandas as pd \n",
    "import numpy as np \n",
    "import matplotlib.pyplot as plt \n",
    "import seaborn as sns"
   ]
  },
  {
   "cell_type": "code",
   "execution_count": 2,
   "metadata": {},
   "outputs": [
    {
     "data": {
      "text/html": [
       "<div>\n",
       "<style scoped>\n",
       "    .dataframe tbody tr th:only-of-type {\n",
       "        vertical-align: middle;\n",
       "    }\n",
       "\n",
       "    .dataframe tbody tr th {\n",
       "        vertical-align: top;\n",
       "    }\n",
       "\n",
       "    .dataframe thead th {\n",
       "        text-align: right;\n",
       "    }\n",
       "</style>\n",
       "<table border=\"1\" class=\"dataframe\">\n",
       "  <thead>\n",
       "    <tr style=\"text-align: right;\">\n",
       "      <th></th>\n",
       "      <th>Order_ID</th>\n",
       "      <th>Agent_Age</th>\n",
       "      <th>Agent_Rating</th>\n",
       "      <th>Store_Latitude</th>\n",
       "      <th>Store_Longitude</th>\n",
       "      <th>Drop_Latitude</th>\n",
       "      <th>Drop_Longitude</th>\n",
       "      <th>Order_Date</th>\n",
       "      <th>Order_Time</th>\n",
       "      <th>Pickup_Time</th>\n",
       "      <th>Weather</th>\n",
       "      <th>Traffic</th>\n",
       "      <th>Vehicle</th>\n",
       "      <th>Area</th>\n",
       "      <th>Delivery_Time</th>\n",
       "      <th>Category</th>\n",
       "    </tr>\n",
       "  </thead>\n",
       "  <tbody>\n",
       "    <tr>\n",
       "      <th>0</th>\n",
       "      <td>ialx566343618</td>\n",
       "      <td>37</td>\n",
       "      <td>4.9</td>\n",
       "      <td>22.745049</td>\n",
       "      <td>75.892471</td>\n",
       "      <td>22.765049</td>\n",
       "      <td>75.912471</td>\n",
       "      <td>2022-03-19</td>\n",
       "      <td>11:30:00</td>\n",
       "      <td>11:45:00</td>\n",
       "      <td>Sunny</td>\n",
       "      <td>High</td>\n",
       "      <td>motorcycle</td>\n",
       "      <td>Urban</td>\n",
       "      <td>120</td>\n",
       "      <td>Clothing</td>\n",
       "    </tr>\n",
       "    <tr>\n",
       "      <th>1</th>\n",
       "      <td>akqg208421122</td>\n",
       "      <td>34</td>\n",
       "      <td>4.5</td>\n",
       "      <td>12.913041</td>\n",
       "      <td>77.683237</td>\n",
       "      <td>13.043041</td>\n",
       "      <td>77.813237</td>\n",
       "      <td>2022-03-25</td>\n",
       "      <td>19:45:00</td>\n",
       "      <td>19:50:00</td>\n",
       "      <td>Stormy</td>\n",
       "      <td>Jam</td>\n",
       "      <td>scooter</td>\n",
       "      <td>Metropolitian</td>\n",
       "      <td>165</td>\n",
       "      <td>Electronics</td>\n",
       "    </tr>\n",
       "    <tr>\n",
       "      <th>2</th>\n",
       "      <td>njpu434582536</td>\n",
       "      <td>23</td>\n",
       "      <td>4.4</td>\n",
       "      <td>12.914264</td>\n",
       "      <td>77.678400</td>\n",
       "      <td>12.924264</td>\n",
       "      <td>77.688400</td>\n",
       "      <td>2022-03-19</td>\n",
       "      <td>08:30:00</td>\n",
       "      <td>08:45:00</td>\n",
       "      <td>Sandstorms</td>\n",
       "      <td>Low</td>\n",
       "      <td>motorcycle</td>\n",
       "      <td>Urban</td>\n",
       "      <td>130</td>\n",
       "      <td>Sports</td>\n",
       "    </tr>\n",
       "    <tr>\n",
       "      <th>3</th>\n",
       "      <td>rjto796129700</td>\n",
       "      <td>38</td>\n",
       "      <td>4.7</td>\n",
       "      <td>11.003669</td>\n",
       "      <td>76.976494</td>\n",
       "      <td>11.053669</td>\n",
       "      <td>77.026494</td>\n",
       "      <td>2022-04-05</td>\n",
       "      <td>18:00:00</td>\n",
       "      <td>18:10:00</td>\n",
       "      <td>Sunny</td>\n",
       "      <td>Medium</td>\n",
       "      <td>motorcycle</td>\n",
       "      <td>Metropolitian</td>\n",
       "      <td>105</td>\n",
       "      <td>Cosmetics</td>\n",
       "    </tr>\n",
       "    <tr>\n",
       "      <th>4</th>\n",
       "      <td>zguw716275638</td>\n",
       "      <td>32</td>\n",
       "      <td>4.6</td>\n",
       "      <td>12.972793</td>\n",
       "      <td>80.249982</td>\n",
       "      <td>13.012793</td>\n",
       "      <td>80.289982</td>\n",
       "      <td>2022-03-26</td>\n",
       "      <td>13:30:00</td>\n",
       "      <td>13:45:00</td>\n",
       "      <td>Cloudy</td>\n",
       "      <td>High</td>\n",
       "      <td>scooter</td>\n",
       "      <td>Metropolitian</td>\n",
       "      <td>150</td>\n",
       "      <td>Toys</td>\n",
       "    </tr>\n",
       "  </tbody>\n",
       "</table>\n",
       "</div>"
      ],
      "text/plain": [
       "        Order_ID  Agent_Age  Agent_Rating  Store_Latitude  Store_Longitude  \\\n",
       "0  ialx566343618         37           4.9       22.745049        75.892471   \n",
       "1  akqg208421122         34           4.5       12.913041        77.683237   \n",
       "2  njpu434582536         23           4.4       12.914264        77.678400   \n",
       "3  rjto796129700         38           4.7       11.003669        76.976494   \n",
       "4  zguw716275638         32           4.6       12.972793        80.249982   \n",
       "\n",
       "   Drop_Latitude  Drop_Longitude  Order_Date Order_Time Pickup_Time  \\\n",
       "0      22.765049       75.912471  2022-03-19   11:30:00    11:45:00   \n",
       "1      13.043041       77.813237  2022-03-25   19:45:00    19:50:00   \n",
       "2      12.924264       77.688400  2022-03-19   08:30:00    08:45:00   \n",
       "3      11.053669       77.026494  2022-04-05   18:00:00    18:10:00   \n",
       "4      13.012793       80.289982  2022-03-26   13:30:00    13:45:00   \n",
       "\n",
       "      Weather  Traffic      Vehicle            Area  Delivery_Time  \\\n",
       "0       Sunny    High   motorcycle           Urban             120   \n",
       "1      Stormy     Jam      scooter   Metropolitian             165   \n",
       "2  Sandstorms     Low   motorcycle           Urban             130   \n",
       "3       Sunny  Medium   motorcycle   Metropolitian             105   \n",
       "4      Cloudy    High      scooter   Metropolitian             150   \n",
       "\n",
       "      Category  \n",
       "0     Clothing  \n",
       "1  Electronics  \n",
       "2       Sports  \n",
       "3    Cosmetics  \n",
       "4         Toys  "
      ]
     },
     "execution_count": 2,
     "metadata": {},
     "output_type": "execute_result"
    }
   ],
   "source": [
    "data = pd.read_csv(\"Data/amazon_delivery.csv\")\n",
    "data.head()"
   ]
  },
  {
   "cell_type": "code",
   "execution_count": 3,
   "metadata": {},
   "outputs": [
    {
     "name": "stdout",
     "output_type": "stream",
     "text": [
      "<class 'pandas.core.frame.DataFrame'>\n",
      "RangeIndex: 43739 entries, 0 to 43738\n",
      "Data columns (total 16 columns):\n",
      " #   Column           Non-Null Count  Dtype  \n",
      "---  ------           --------------  -----  \n",
      " 0   Order_ID         43739 non-null  object \n",
      " 1   Agent_Age        43739 non-null  int64  \n",
      " 2   Agent_Rating     43685 non-null  float64\n",
      " 3   Store_Latitude   43739 non-null  float64\n",
      " 4   Store_Longitude  43739 non-null  float64\n",
      " 5   Drop_Latitude    43739 non-null  float64\n",
      " 6   Drop_Longitude   43739 non-null  float64\n",
      " 7   Order_Date       43739 non-null  object \n",
      " 8   Order_Time       43739 non-null  object \n",
      " 9   Pickup_Time      43739 non-null  object \n",
      " 10  Weather          43648 non-null  object \n",
      " 11  Traffic          43739 non-null  object \n",
      " 12  Vehicle          43739 non-null  object \n",
      " 13  Area             43739 non-null  object \n",
      " 14  Delivery_Time    43739 non-null  int64  \n",
      " 15  Category         43739 non-null  object \n",
      "dtypes: float64(5), int64(2), object(9)\n",
      "memory usage: 5.3+ MB\n"
     ]
    }
   ],
   "source": [
    "data.info()"
   ]
  },
  {
   "cell_type": "code",
   "execution_count": 4,
   "metadata": {},
   "outputs": [
    {
     "data": {
      "text/html": [
       "<div>\n",
       "<style scoped>\n",
       "    .dataframe tbody tr th:only-of-type {\n",
       "        vertical-align: middle;\n",
       "    }\n",
       "\n",
       "    .dataframe tbody tr th {\n",
       "        vertical-align: top;\n",
       "    }\n",
       "\n",
       "    .dataframe thead th {\n",
       "        text-align: right;\n",
       "    }\n",
       "</style>\n",
       "<table border=\"1\" class=\"dataframe\">\n",
       "  <thead>\n",
       "    <tr style=\"text-align: right;\">\n",
       "      <th></th>\n",
       "      <th>Agent_Age</th>\n",
       "      <th>Agent_Rating</th>\n",
       "      <th>Store_Latitude</th>\n",
       "      <th>Store_Longitude</th>\n",
       "      <th>Drop_Latitude</th>\n",
       "      <th>Drop_Longitude</th>\n",
       "      <th>Delivery_Time</th>\n",
       "    </tr>\n",
       "  </thead>\n",
       "  <tbody>\n",
       "    <tr>\n",
       "      <th>count</th>\n",
       "      <td>43739.000000</td>\n",
       "      <td>43685.000000</td>\n",
       "      <td>43739.000000</td>\n",
       "      <td>43739.000000</td>\n",
       "      <td>43739.000000</td>\n",
       "      <td>43739.000000</td>\n",
       "      <td>43739.000000</td>\n",
       "    </tr>\n",
       "    <tr>\n",
       "      <th>mean</th>\n",
       "      <td>29.567137</td>\n",
       "      <td>4.633780</td>\n",
       "      <td>17.210960</td>\n",
       "      <td>70.661177</td>\n",
       "      <td>17.459031</td>\n",
       "      <td>70.821842</td>\n",
       "      <td>124.905645</td>\n",
       "    </tr>\n",
       "    <tr>\n",
       "      <th>std</th>\n",
       "      <td>5.815155</td>\n",
       "      <td>0.334716</td>\n",
       "      <td>7.764225</td>\n",
       "      <td>21.475005</td>\n",
       "      <td>7.342950</td>\n",
       "      <td>21.153148</td>\n",
       "      <td>51.915451</td>\n",
       "    </tr>\n",
       "    <tr>\n",
       "      <th>min</th>\n",
       "      <td>15.000000</td>\n",
       "      <td>1.000000</td>\n",
       "      <td>-30.902872</td>\n",
       "      <td>-88.366217</td>\n",
       "      <td>0.010000</td>\n",
       "      <td>0.010000</td>\n",
       "      <td>10.000000</td>\n",
       "    </tr>\n",
       "    <tr>\n",
       "      <th>25%</th>\n",
       "      <td>25.000000</td>\n",
       "      <td>4.500000</td>\n",
       "      <td>12.933298</td>\n",
       "      <td>73.170283</td>\n",
       "      <td>12.985996</td>\n",
       "      <td>73.280000</td>\n",
       "      <td>90.000000</td>\n",
       "    </tr>\n",
       "    <tr>\n",
       "      <th>50%</th>\n",
       "      <td>30.000000</td>\n",
       "      <td>4.700000</td>\n",
       "      <td>18.551440</td>\n",
       "      <td>75.898497</td>\n",
       "      <td>18.633626</td>\n",
       "      <td>76.002574</td>\n",
       "      <td>125.000000</td>\n",
       "    </tr>\n",
       "    <tr>\n",
       "      <th>75%</th>\n",
       "      <td>35.000000</td>\n",
       "      <td>4.900000</td>\n",
       "      <td>22.732225</td>\n",
       "      <td>78.045359</td>\n",
       "      <td>22.785049</td>\n",
       "      <td>78.104095</td>\n",
       "      <td>160.000000</td>\n",
       "    </tr>\n",
       "    <tr>\n",
       "      <th>max</th>\n",
       "      <td>50.000000</td>\n",
       "      <td>6.000000</td>\n",
       "      <td>30.914057</td>\n",
       "      <td>88.433452</td>\n",
       "      <td>31.054057</td>\n",
       "      <td>88.563452</td>\n",
       "      <td>270.000000</td>\n",
       "    </tr>\n",
       "  </tbody>\n",
       "</table>\n",
       "</div>"
      ],
      "text/plain": [
       "          Agent_Age  Agent_Rating  Store_Latitude  Store_Longitude  \\\n",
       "count  43739.000000  43685.000000    43739.000000     43739.000000   \n",
       "mean      29.567137      4.633780       17.210960        70.661177   \n",
       "std        5.815155      0.334716        7.764225        21.475005   \n",
       "min       15.000000      1.000000      -30.902872       -88.366217   \n",
       "25%       25.000000      4.500000       12.933298        73.170283   \n",
       "50%       30.000000      4.700000       18.551440        75.898497   \n",
       "75%       35.000000      4.900000       22.732225        78.045359   \n",
       "max       50.000000      6.000000       30.914057        88.433452   \n",
       "\n",
       "       Drop_Latitude  Drop_Longitude  Delivery_Time  \n",
       "count   43739.000000    43739.000000   43739.000000  \n",
       "mean       17.459031       70.821842     124.905645  \n",
       "std         7.342950       21.153148      51.915451  \n",
       "min         0.010000        0.010000      10.000000  \n",
       "25%        12.985996       73.280000      90.000000  \n",
       "50%        18.633626       76.002574     125.000000  \n",
       "75%        22.785049       78.104095     160.000000  \n",
       "max        31.054057       88.563452     270.000000  "
      ]
     },
     "execution_count": 4,
     "metadata": {},
     "output_type": "execute_result"
    }
   ],
   "source": [
    "data.describe()"
   ]
  },
  {
   "cell_type": "code",
   "execution_count": 5,
   "id": "984ed006",
   "metadata": {},
   "outputs": [
    {
     "data": {
      "text/plain": [
       "Order_ID            0\n",
       "Agent_Age           0\n",
       "Agent_Rating       54\n",
       "Store_Latitude      0\n",
       "Store_Longitude     0\n",
       "Drop_Latitude       0\n",
       "Drop_Longitude      0\n",
       "Order_Date          0\n",
       "Order_Time          0\n",
       "Pickup_Time         0\n",
       "Weather            91\n",
       "Traffic             0\n",
       "Vehicle             0\n",
       "Area                0\n",
       "Delivery_Time       0\n",
       "Category            0\n",
       "dtype: int64"
      ]
     },
     "execution_count": 5,
     "metadata": {},
     "output_type": "execute_result"
    }
   ],
   "source": [
    "miss_values = data.isnull().sum()\n",
    "miss_values"
   ]
  },
  {
   "cell_type": "code",
   "execution_count": 6,
   "id": "37c1706a",
   "metadata": {},
   "outputs": [
    {
     "data": {
      "text/plain": [
       "(43739, 16)"
      ]
     },
     "execution_count": 6,
     "metadata": {},
     "output_type": "execute_result"
    }
   ],
   "source": [
    "data.shape"
   ]
  },
  {
   "cell_type": "code",
   "execution_count": 7,
   "id": "143f1d8c",
   "metadata": {},
   "outputs": [
    {
     "data": {
      "text/plain": [
       "Agent_Rating    0.123460\n",
       "Weather         0.208052\n",
       "dtype: float64"
      ]
     },
     "execution_count": 7,
     "metadata": {},
     "output_type": "execute_result"
    }
   ],
   "source": [
    "missing_percent = (miss_values[miss_values > 0] / data.shape[0]) * 100\n",
    "missing_percent"
   ]
  },
  {
   "cell_type": "code",
   "execution_count": 8,
   "id": "916b8cfb",
   "metadata": {},
   "outputs": [],
   "source": [
    "data.columns = data.columns.str.strip() # remove any extra space"
   ]
  },
  {
   "cell_type": "code",
   "execution_count": 9,
   "id": "a29bfeff",
   "metadata": {},
   "outputs": [
    {
     "data": {
      "text/plain": [
       "Index(['Order_ID', 'Agent_Age', 'Agent_Rating', 'Store_Latitude',\n",
       "       'Store_Longitude', 'Drop_Latitude', 'Drop_Longitude', 'Order_Date',\n",
       "       'Order_Time', 'Pickup_Time', 'Weather', 'Traffic', 'Vehicle', 'Area',\n",
       "       'Delivery_Time', 'Category'],\n",
       "      dtype='object')"
      ]
     },
     "execution_count": 9,
     "metadata": {},
     "output_type": "execute_result"
    }
   ],
   "source": [
    "data.columns"
   ]
  },
  {
   "cell_type": "code",
   "execution_count": 10,
   "id": "f076fab6",
   "metadata": {},
   "outputs": [
    {
     "data": {
      "text/plain": [
       "False"
      ]
     },
     "execution_count": 10,
     "metadata": {},
     "output_type": "execute_result"
    }
   ],
   "source": [
    "data.duplicated().any()"
   ]
  },
  {
   "cell_type": "code",
   "execution_count": 11,
   "id": "c0fb201c",
   "metadata": {},
   "outputs": [],
   "source": [
    "data.dropna(inplace=True)"
   ]
  },
  {
   "cell_type": "code",
   "execution_count": 12,
   "id": "950c5475",
   "metadata": {},
   "outputs": [
    {
     "name": "stdout",
     "output_type": "stream",
     "text": [
      "151\n"
     ]
    }
   ],
   "source": [
    "# Store_Latitude columns have negative value \n",
    "Latitude_neg_value = data[data['Store_Latitude'] < 0]\n",
    "print(len(Latitude_neg_value))"
   ]
  },
  {
   "cell_type": "code",
   "execution_count": 13,
   "id": "919067bf",
   "metadata": {},
   "outputs": [],
   "source": [
    "data['Store_Latitude'] = data['Store_Latitude'].abs()\n",
    "data['Store_Longitude'] = data['Store_Longitude'].abs()"
   ]
  },
  {
   "cell_type": "code",
   "execution_count": 14,
   "id": "d13121be",
   "metadata": {},
   "outputs": [],
   "source": [
    "# Convert date/time columns\n",
    "data['Order_DateTime'] = pd.to_datetime(data['Order_Date'] + ' ' + data['Order_Time'])\n",
    "data['Pickup_DateTime'] = pd.to_datetime(data['Order_Date'] + ' ' + data['Pickup_Time'])"
   ]
  },
  {
   "cell_type": "code",
   "execution_count": null,
   "id": "1ada3234",
   "metadata": {},
   "outputs": [],
   "source": [
    "# Calculate time to pickup\n",
    "data['Time_to_Pickup'] = (data['Pickup_DateTime'] - data['Order_DateTime']).dt.total_seconds() / 60 \n"
   ]
  },
  {
   "cell_type": "code",
   "execution_count": 16,
   "id": "54f9bd0b",
   "metadata": {},
   "outputs": [],
   "source": [
    "# Drop original date/time columns\n",
    "data.drop(['Order_Date', 'Order_Time', 'Pickup_Time'], axis=1, inplace=True)"
   ]
  },
  {
   "cell_type": "code",
   "execution_count": 17,
   "id": "33b06477",
   "metadata": {},
   "outputs": [
    {
     "data": {
      "text/html": [
       "<div>\n",
       "<style scoped>\n",
       "    .dataframe tbody tr th:only-of-type {\n",
       "        vertical-align: middle;\n",
       "    }\n",
       "\n",
       "    .dataframe tbody tr th {\n",
       "        vertical-align: top;\n",
       "    }\n",
       "\n",
       "    .dataframe thead th {\n",
       "        text-align: right;\n",
       "    }\n",
       "</style>\n",
       "<table border=\"1\" class=\"dataframe\">\n",
       "  <thead>\n",
       "    <tr style=\"text-align: right;\">\n",
       "      <th></th>\n",
       "      <th>Order_ID</th>\n",
       "      <th>Agent_Age</th>\n",
       "      <th>Agent_Rating</th>\n",
       "      <th>Store_Latitude</th>\n",
       "      <th>Store_Longitude</th>\n",
       "      <th>Drop_Latitude</th>\n",
       "      <th>Drop_Longitude</th>\n",
       "      <th>Weather</th>\n",
       "      <th>Traffic</th>\n",
       "      <th>Vehicle</th>\n",
       "      <th>Area</th>\n",
       "      <th>Delivery_Time</th>\n",
       "      <th>Category</th>\n",
       "      <th>Order_DateTime</th>\n",
       "      <th>Pickup_DateTime</th>\n",
       "      <th>Time_to_Pickup</th>\n",
       "    </tr>\n",
       "  </thead>\n",
       "  <tbody>\n",
       "    <tr>\n",
       "      <th>0</th>\n",
       "      <td>ialx566343618</td>\n",
       "      <td>37</td>\n",
       "      <td>4.9</td>\n",
       "      <td>22.745049</td>\n",
       "      <td>75.892471</td>\n",
       "      <td>22.765049</td>\n",
       "      <td>75.912471</td>\n",
       "      <td>Sunny</td>\n",
       "      <td>High</td>\n",
       "      <td>motorcycle</td>\n",
       "      <td>Urban</td>\n",
       "      <td>120</td>\n",
       "      <td>Clothing</td>\n",
       "      <td>2022-03-19 11:30:00</td>\n",
       "      <td>2022-03-19 11:45:00</td>\n",
       "      <td>15.0</td>\n",
       "    </tr>\n",
       "    <tr>\n",
       "      <th>1</th>\n",
       "      <td>akqg208421122</td>\n",
       "      <td>34</td>\n",
       "      <td>4.5</td>\n",
       "      <td>12.913041</td>\n",
       "      <td>77.683237</td>\n",
       "      <td>13.043041</td>\n",
       "      <td>77.813237</td>\n",
       "      <td>Stormy</td>\n",
       "      <td>Jam</td>\n",
       "      <td>scooter</td>\n",
       "      <td>Metropolitian</td>\n",
       "      <td>165</td>\n",
       "      <td>Electronics</td>\n",
       "      <td>2022-03-25 19:45:00</td>\n",
       "      <td>2022-03-25 19:50:00</td>\n",
       "      <td>5.0</td>\n",
       "    </tr>\n",
       "    <tr>\n",
       "      <th>2</th>\n",
       "      <td>njpu434582536</td>\n",
       "      <td>23</td>\n",
       "      <td>4.4</td>\n",
       "      <td>12.914264</td>\n",
       "      <td>77.678400</td>\n",
       "      <td>12.924264</td>\n",
       "      <td>77.688400</td>\n",
       "      <td>Sandstorms</td>\n",
       "      <td>Low</td>\n",
       "      <td>motorcycle</td>\n",
       "      <td>Urban</td>\n",
       "      <td>130</td>\n",
       "      <td>Sports</td>\n",
       "      <td>2022-03-19 08:30:00</td>\n",
       "      <td>2022-03-19 08:45:00</td>\n",
       "      <td>15.0</td>\n",
       "    </tr>\n",
       "    <tr>\n",
       "      <th>3</th>\n",
       "      <td>rjto796129700</td>\n",
       "      <td>38</td>\n",
       "      <td>4.7</td>\n",
       "      <td>11.003669</td>\n",
       "      <td>76.976494</td>\n",
       "      <td>11.053669</td>\n",
       "      <td>77.026494</td>\n",
       "      <td>Sunny</td>\n",
       "      <td>Medium</td>\n",
       "      <td>motorcycle</td>\n",
       "      <td>Metropolitian</td>\n",
       "      <td>105</td>\n",
       "      <td>Cosmetics</td>\n",
       "      <td>2022-04-05 18:00:00</td>\n",
       "      <td>2022-04-05 18:10:00</td>\n",
       "      <td>10.0</td>\n",
       "    </tr>\n",
       "    <tr>\n",
       "      <th>4</th>\n",
       "      <td>zguw716275638</td>\n",
       "      <td>32</td>\n",
       "      <td>4.6</td>\n",
       "      <td>12.972793</td>\n",
       "      <td>80.249982</td>\n",
       "      <td>13.012793</td>\n",
       "      <td>80.289982</td>\n",
       "      <td>Cloudy</td>\n",
       "      <td>High</td>\n",
       "      <td>scooter</td>\n",
       "      <td>Metropolitian</td>\n",
       "      <td>150</td>\n",
       "      <td>Toys</td>\n",
       "      <td>2022-03-26 13:30:00</td>\n",
       "      <td>2022-03-26 13:45:00</td>\n",
       "      <td>15.0</td>\n",
       "    </tr>\n",
       "  </tbody>\n",
       "</table>\n",
       "</div>"
      ],
      "text/plain": [
       "        Order_ID  Agent_Age  Agent_Rating  Store_Latitude  Store_Longitude  \\\n",
       "0  ialx566343618         37           4.9       22.745049        75.892471   \n",
       "1  akqg208421122         34           4.5       12.913041        77.683237   \n",
       "2  njpu434582536         23           4.4       12.914264        77.678400   \n",
       "3  rjto796129700         38           4.7       11.003669        76.976494   \n",
       "4  zguw716275638         32           4.6       12.972793        80.249982   \n",
       "\n",
       "   Drop_Latitude  Drop_Longitude     Weather  Traffic      Vehicle  \\\n",
       "0      22.765049       75.912471       Sunny    High   motorcycle    \n",
       "1      13.043041       77.813237      Stormy     Jam      scooter    \n",
       "2      12.924264       77.688400  Sandstorms     Low   motorcycle    \n",
       "3      11.053669       77.026494       Sunny  Medium   motorcycle    \n",
       "4      13.012793       80.289982      Cloudy    High      scooter    \n",
       "\n",
       "             Area  Delivery_Time     Category      Order_DateTime  \\\n",
       "0          Urban             120     Clothing 2022-03-19 11:30:00   \n",
       "1  Metropolitian             165  Electronics 2022-03-25 19:45:00   \n",
       "2          Urban             130       Sports 2022-03-19 08:30:00   \n",
       "3  Metropolitian             105    Cosmetics 2022-04-05 18:00:00   \n",
       "4  Metropolitian             150         Toys 2022-03-26 13:30:00   \n",
       "\n",
       "      Pickup_DateTime  Time_to_Pickup  \n",
       "0 2022-03-19 11:45:00            15.0  \n",
       "1 2022-03-25 19:50:00             5.0  \n",
       "2 2022-03-19 08:45:00            15.0  \n",
       "3 2022-04-05 18:10:00            10.0  \n",
       "4 2022-03-26 13:45:00            15.0  "
      ]
     },
     "execution_count": 17,
     "metadata": {},
     "output_type": "execute_result"
    }
   ],
   "source": [
    "data.head()"
   ]
  },
  {
   "cell_type": "code",
   "execution_count": 18,
   "id": "98c85bf3",
   "metadata": {},
   "outputs": [
    {
     "data": {
      "text/html": [
       "<div>\n",
       "<style scoped>\n",
       "    .dataframe tbody tr th:only-of-type {\n",
       "        vertical-align: middle;\n",
       "    }\n",
       "\n",
       "    .dataframe tbody tr th {\n",
       "        vertical-align: top;\n",
       "    }\n",
       "\n",
       "    .dataframe thead th {\n",
       "        text-align: right;\n",
       "    }\n",
       "</style>\n",
       "<table border=\"1\" class=\"dataframe\">\n",
       "  <thead>\n",
       "    <tr style=\"text-align: right;\">\n",
       "      <th></th>\n",
       "      <th>Order_ID</th>\n",
       "      <th>Agent_Age</th>\n",
       "      <th>Agent_Rating</th>\n",
       "      <th>Store_Latitude</th>\n",
       "      <th>Store_Longitude</th>\n",
       "      <th>Drop_Latitude</th>\n",
       "      <th>Drop_Longitude</th>\n",
       "      <th>Weather</th>\n",
       "      <th>Traffic</th>\n",
       "      <th>Vehicle</th>\n",
       "      <th>Area</th>\n",
       "      <th>Delivery_Time</th>\n",
       "      <th>Category</th>\n",
       "      <th>Order_DateTime</th>\n",
       "      <th>Pickup_DateTime</th>\n",
       "      <th>Time_to_Pickup</th>\n",
       "    </tr>\n",
       "  </thead>\n",
       "  <tbody>\n",
       "    <tr>\n",
       "      <th>0</th>\n",
       "      <td>ialx566343618</td>\n",
       "      <td>37</td>\n",
       "      <td>4.9</td>\n",
       "      <td>22.745049</td>\n",
       "      <td>75.892471</td>\n",
       "      <td>22.765049</td>\n",
       "      <td>75.912471</td>\n",
       "      <td>Sunny</td>\n",
       "      <td>High</td>\n",
       "      <td>motorcycle</td>\n",
       "      <td>Urban</td>\n",
       "      <td>120</td>\n",
       "      <td>Clothing</td>\n",
       "      <td>2022-03-19 11:30:00</td>\n",
       "      <td>2022-03-19 11:45:00</td>\n",
       "      <td>15.0</td>\n",
       "    </tr>\n",
       "    <tr>\n",
       "      <th>1</th>\n",
       "      <td>akqg208421122</td>\n",
       "      <td>34</td>\n",
       "      <td>4.5</td>\n",
       "      <td>12.913041</td>\n",
       "      <td>77.683237</td>\n",
       "      <td>13.043041</td>\n",
       "      <td>77.813237</td>\n",
       "      <td>Stormy</td>\n",
       "      <td>Jam</td>\n",
       "      <td>scooter</td>\n",
       "      <td>Metropolitian</td>\n",
       "      <td>165</td>\n",
       "      <td>Electronics</td>\n",
       "      <td>2022-03-25 19:45:00</td>\n",
       "      <td>2022-03-25 19:50:00</td>\n",
       "      <td>5.0</td>\n",
       "    </tr>\n",
       "    <tr>\n",
       "      <th>2</th>\n",
       "      <td>njpu434582536</td>\n",
       "      <td>23</td>\n",
       "      <td>4.4</td>\n",
       "      <td>12.914264</td>\n",
       "      <td>77.678400</td>\n",
       "      <td>12.924264</td>\n",
       "      <td>77.688400</td>\n",
       "      <td>Sandstorms</td>\n",
       "      <td>Low</td>\n",
       "      <td>motorcycle</td>\n",
       "      <td>Urban</td>\n",
       "      <td>130</td>\n",
       "      <td>Sports</td>\n",
       "      <td>2022-03-19 08:30:00</td>\n",
       "      <td>2022-03-19 08:45:00</td>\n",
       "      <td>15.0</td>\n",
       "    </tr>\n",
       "    <tr>\n",
       "      <th>3</th>\n",
       "      <td>rjto796129700</td>\n",
       "      <td>38</td>\n",
       "      <td>4.7</td>\n",
       "      <td>11.003669</td>\n",
       "      <td>76.976494</td>\n",
       "      <td>11.053669</td>\n",
       "      <td>77.026494</td>\n",
       "      <td>Sunny</td>\n",
       "      <td>Medium</td>\n",
       "      <td>motorcycle</td>\n",
       "      <td>Metropolitian</td>\n",
       "      <td>105</td>\n",
       "      <td>Cosmetics</td>\n",
       "      <td>2022-04-05 18:00:00</td>\n",
       "      <td>2022-04-05 18:10:00</td>\n",
       "      <td>10.0</td>\n",
       "    </tr>\n",
       "    <tr>\n",
       "      <th>4</th>\n",
       "      <td>zguw716275638</td>\n",
       "      <td>32</td>\n",
       "      <td>4.6</td>\n",
       "      <td>12.972793</td>\n",
       "      <td>80.249982</td>\n",
       "      <td>13.012793</td>\n",
       "      <td>80.289982</td>\n",
       "      <td>Cloudy</td>\n",
       "      <td>High</td>\n",
       "      <td>scooter</td>\n",
       "      <td>Metropolitian</td>\n",
       "      <td>150</td>\n",
       "      <td>Toys</td>\n",
       "      <td>2022-03-26 13:30:00</td>\n",
       "      <td>2022-03-26 13:45:00</td>\n",
       "      <td>15.0</td>\n",
       "    </tr>\n",
       "  </tbody>\n",
       "</table>\n",
       "</div>"
      ],
      "text/plain": [
       "        Order_ID  Agent_Age  Agent_Rating  Store_Latitude  Store_Longitude  \\\n",
       "0  ialx566343618         37           4.9       22.745049        75.892471   \n",
       "1  akqg208421122         34           4.5       12.913041        77.683237   \n",
       "2  njpu434582536         23           4.4       12.914264        77.678400   \n",
       "3  rjto796129700         38           4.7       11.003669        76.976494   \n",
       "4  zguw716275638         32           4.6       12.972793        80.249982   \n",
       "\n",
       "   Drop_Latitude  Drop_Longitude     Weather  Traffic      Vehicle  \\\n",
       "0      22.765049       75.912471       Sunny    High   motorcycle    \n",
       "1      13.043041       77.813237      Stormy     Jam      scooter    \n",
       "2      12.924264       77.688400  Sandstorms     Low   motorcycle    \n",
       "3      11.053669       77.026494       Sunny  Medium   motorcycle    \n",
       "4      13.012793       80.289982      Cloudy    High      scooter    \n",
       "\n",
       "             Area  Delivery_Time     Category      Order_DateTime  \\\n",
       "0          Urban             120     Clothing 2022-03-19 11:30:00   \n",
       "1  Metropolitian             165  Electronics 2022-03-25 19:45:00   \n",
       "2          Urban             130       Sports 2022-03-19 08:30:00   \n",
       "3  Metropolitian             105    Cosmetics 2022-04-05 18:00:00   \n",
       "4  Metropolitian             150         Toys 2022-03-26 13:30:00   \n",
       "\n",
       "      Pickup_DateTime  Time_to_Pickup  \n",
       "0 2022-03-19 11:45:00            15.0  \n",
       "1 2022-03-25 19:50:00             5.0  \n",
       "2 2022-03-19 08:45:00            15.0  \n",
       "3 2022-04-05 18:10:00            10.0  \n",
       "4 2022-03-26 13:45:00            15.0  "
      ]
     },
     "execution_count": 18,
     "metadata": {},
     "output_type": "execute_result"
    }
   ],
   "source": [
    "data.head()"
   ]
  },
  {
   "cell_type": "code",
   "execution_count": 19,
   "id": "0460e2cc",
   "metadata": {},
   "outputs": [],
   "source": [
    "data['Order_Hour'] = data['Order_DateTime'].dt.hour\n",
    "data['Order_Day'] = data['Order_DateTime'].dt.day\n",
    "data['Order_Month'] = data['Order_DateTime'].dt.month\n",
    "data['Order_Weekday'] = data['Order_DateTime'].dt.weekday"
   ]
  },
  {
   "cell_type": "code",
   "execution_count": 20,
   "id": "7e256dc4",
   "metadata": {},
   "outputs": [
    {
     "data": {
      "text/html": [
       "<div>\n",
       "<style scoped>\n",
       "    .dataframe tbody tr th:only-of-type {\n",
       "        vertical-align: middle;\n",
       "    }\n",
       "\n",
       "    .dataframe tbody tr th {\n",
       "        vertical-align: top;\n",
       "    }\n",
       "\n",
       "    .dataframe thead th {\n",
       "        text-align: right;\n",
       "    }\n",
       "</style>\n",
       "<table border=\"1\" class=\"dataframe\">\n",
       "  <thead>\n",
       "    <tr style=\"text-align: right;\">\n",
       "      <th></th>\n",
       "      <th>Order_ID</th>\n",
       "      <th>Agent_Age</th>\n",
       "      <th>Agent_Rating</th>\n",
       "      <th>Store_Latitude</th>\n",
       "      <th>Store_Longitude</th>\n",
       "      <th>Drop_Latitude</th>\n",
       "      <th>Drop_Longitude</th>\n",
       "      <th>Weather</th>\n",
       "      <th>Traffic</th>\n",
       "      <th>Vehicle</th>\n",
       "      <th>Area</th>\n",
       "      <th>Delivery_Time</th>\n",
       "      <th>Category</th>\n",
       "      <th>Order_DateTime</th>\n",
       "      <th>Pickup_DateTime</th>\n",
       "      <th>Time_to_Pickup</th>\n",
       "      <th>Order_Hour</th>\n",
       "      <th>Order_Day</th>\n",
       "      <th>Order_Month</th>\n",
       "      <th>Order_Weekday</th>\n",
       "    </tr>\n",
       "  </thead>\n",
       "  <tbody>\n",
       "    <tr>\n",
       "      <th>0</th>\n",
       "      <td>ialx566343618</td>\n",
       "      <td>37</td>\n",
       "      <td>4.9</td>\n",
       "      <td>22.745049</td>\n",
       "      <td>75.892471</td>\n",
       "      <td>22.765049</td>\n",
       "      <td>75.912471</td>\n",
       "      <td>Sunny</td>\n",
       "      <td>High</td>\n",
       "      <td>motorcycle</td>\n",
       "      <td>Urban</td>\n",
       "      <td>120</td>\n",
       "      <td>Clothing</td>\n",
       "      <td>2022-03-19 11:30:00</td>\n",
       "      <td>2022-03-19 11:45:00</td>\n",
       "      <td>15.0</td>\n",
       "      <td>11</td>\n",
       "      <td>19</td>\n",
       "      <td>3</td>\n",
       "      <td>5</td>\n",
       "    </tr>\n",
       "    <tr>\n",
       "      <th>1</th>\n",
       "      <td>akqg208421122</td>\n",
       "      <td>34</td>\n",
       "      <td>4.5</td>\n",
       "      <td>12.913041</td>\n",
       "      <td>77.683237</td>\n",
       "      <td>13.043041</td>\n",
       "      <td>77.813237</td>\n",
       "      <td>Stormy</td>\n",
       "      <td>Jam</td>\n",
       "      <td>scooter</td>\n",
       "      <td>Metropolitian</td>\n",
       "      <td>165</td>\n",
       "      <td>Electronics</td>\n",
       "      <td>2022-03-25 19:45:00</td>\n",
       "      <td>2022-03-25 19:50:00</td>\n",
       "      <td>5.0</td>\n",
       "      <td>19</td>\n",
       "      <td>25</td>\n",
       "      <td>3</td>\n",
       "      <td>4</td>\n",
       "    </tr>\n",
       "    <tr>\n",
       "      <th>2</th>\n",
       "      <td>njpu434582536</td>\n",
       "      <td>23</td>\n",
       "      <td>4.4</td>\n",
       "      <td>12.914264</td>\n",
       "      <td>77.678400</td>\n",
       "      <td>12.924264</td>\n",
       "      <td>77.688400</td>\n",
       "      <td>Sandstorms</td>\n",
       "      <td>Low</td>\n",
       "      <td>motorcycle</td>\n",
       "      <td>Urban</td>\n",
       "      <td>130</td>\n",
       "      <td>Sports</td>\n",
       "      <td>2022-03-19 08:30:00</td>\n",
       "      <td>2022-03-19 08:45:00</td>\n",
       "      <td>15.0</td>\n",
       "      <td>8</td>\n",
       "      <td>19</td>\n",
       "      <td>3</td>\n",
       "      <td>5</td>\n",
       "    </tr>\n",
       "    <tr>\n",
       "      <th>3</th>\n",
       "      <td>rjto796129700</td>\n",
       "      <td>38</td>\n",
       "      <td>4.7</td>\n",
       "      <td>11.003669</td>\n",
       "      <td>76.976494</td>\n",
       "      <td>11.053669</td>\n",
       "      <td>77.026494</td>\n",
       "      <td>Sunny</td>\n",
       "      <td>Medium</td>\n",
       "      <td>motorcycle</td>\n",
       "      <td>Metropolitian</td>\n",
       "      <td>105</td>\n",
       "      <td>Cosmetics</td>\n",
       "      <td>2022-04-05 18:00:00</td>\n",
       "      <td>2022-04-05 18:10:00</td>\n",
       "      <td>10.0</td>\n",
       "      <td>18</td>\n",
       "      <td>5</td>\n",
       "      <td>4</td>\n",
       "      <td>1</td>\n",
       "    </tr>\n",
       "    <tr>\n",
       "      <th>4</th>\n",
       "      <td>zguw716275638</td>\n",
       "      <td>32</td>\n",
       "      <td>4.6</td>\n",
       "      <td>12.972793</td>\n",
       "      <td>80.249982</td>\n",
       "      <td>13.012793</td>\n",
       "      <td>80.289982</td>\n",
       "      <td>Cloudy</td>\n",
       "      <td>High</td>\n",
       "      <td>scooter</td>\n",
       "      <td>Metropolitian</td>\n",
       "      <td>150</td>\n",
       "      <td>Toys</td>\n",
       "      <td>2022-03-26 13:30:00</td>\n",
       "      <td>2022-03-26 13:45:00</td>\n",
       "      <td>15.0</td>\n",
       "      <td>13</td>\n",
       "      <td>26</td>\n",
       "      <td>3</td>\n",
       "      <td>5</td>\n",
       "    </tr>\n",
       "  </tbody>\n",
       "</table>\n",
       "</div>"
      ],
      "text/plain": [
       "        Order_ID  Agent_Age  Agent_Rating  Store_Latitude  Store_Longitude  \\\n",
       "0  ialx566343618         37           4.9       22.745049        75.892471   \n",
       "1  akqg208421122         34           4.5       12.913041        77.683237   \n",
       "2  njpu434582536         23           4.4       12.914264        77.678400   \n",
       "3  rjto796129700         38           4.7       11.003669        76.976494   \n",
       "4  zguw716275638         32           4.6       12.972793        80.249982   \n",
       "\n",
       "   Drop_Latitude  Drop_Longitude     Weather  Traffic      Vehicle  \\\n",
       "0      22.765049       75.912471       Sunny    High   motorcycle    \n",
       "1      13.043041       77.813237      Stormy     Jam      scooter    \n",
       "2      12.924264       77.688400  Sandstorms     Low   motorcycle    \n",
       "3      11.053669       77.026494       Sunny  Medium   motorcycle    \n",
       "4      13.012793       80.289982      Cloudy    High      scooter    \n",
       "\n",
       "             Area  Delivery_Time     Category      Order_DateTime  \\\n",
       "0          Urban             120     Clothing 2022-03-19 11:30:00   \n",
       "1  Metropolitian             165  Electronics 2022-03-25 19:45:00   \n",
       "2          Urban             130       Sports 2022-03-19 08:30:00   \n",
       "3  Metropolitian             105    Cosmetics 2022-04-05 18:00:00   \n",
       "4  Metropolitian             150         Toys 2022-03-26 13:30:00   \n",
       "\n",
       "      Pickup_DateTime  Time_to_Pickup  Order_Hour  Order_Day  Order_Month  \\\n",
       "0 2022-03-19 11:45:00            15.0          11         19            3   \n",
       "1 2022-03-25 19:50:00             5.0          19         25            3   \n",
       "2 2022-03-19 08:45:00            15.0           8         19            3   \n",
       "3 2022-04-05 18:10:00            10.0          18          5            4   \n",
       "4 2022-03-26 13:45:00            15.0          13         26            3   \n",
       "\n",
       "   Order_Weekday  \n",
       "0              5  \n",
       "1              4  \n",
       "2              5  \n",
       "3              1  \n",
       "4              5  "
      ]
     },
     "execution_count": 20,
     "metadata": {},
     "output_type": "execute_result"
    }
   ],
   "source": [
    "data.head()"
   ]
  },
  {
   "cell_type": "code",
   "execution_count": 21,
   "id": "7413ec86",
   "metadata": {},
   "outputs": [],
   "source": [
    "data.drop(columns=['Order_ID', 'Order_DateTime', 'Pickup_DateTime'],axis=1,inplace=True)"
   ]
  },
  {
   "cell_type": "code",
   "execution_count": 22,
   "id": "2aaf127b",
   "metadata": {},
   "outputs": [],
   "source": [
    "X = data.drop(['Delivery_Time'], axis=1)\n",
    "y = data['Delivery_Time']"
   ]
  },
  {
   "cell_type": "code",
   "execution_count": 23,
   "id": "e3596aac",
   "metadata": {},
   "outputs": [
    {
     "data": {
      "text/plain": [
       "['Weather', 'Traffic', 'Vehicle', 'Area', 'Category']"
      ]
     },
     "execution_count": 23,
     "metadata": {},
     "output_type": "execute_result"
    }
   ],
   "source": [
    "categorical_features = [feature for feature in data.columns if data[feature].dtype == \"object\"]\n",
    "categorical_features"
   ]
  },
  {
   "cell_type": "code",
   "execution_count": 24,
   "id": "6249c405",
   "metadata": {},
   "outputs": [
    {
     "data": {
      "text/plain": [
       "['Agent_Age',\n",
       " 'Agent_Rating',\n",
       " 'Store_Latitude',\n",
       " 'Store_Longitude',\n",
       " 'Drop_Latitude',\n",
       " 'Drop_Longitude',\n",
       " 'Delivery_Time',\n",
       " 'Time_to_Pickup',\n",
       " 'Order_Hour',\n",
       " 'Order_Day',\n",
       " 'Order_Month',\n",
       " 'Order_Weekday']"
      ]
     },
     "execution_count": 24,
     "metadata": {},
     "output_type": "execute_result"
    }
   ],
   "source": [
    "numerical_features  = [feature for feature in data.columns if data[feature].dtype != \"object\"]\n",
    "numerical_features"
   ]
  },
  {
   "cell_type": "code",
   "execution_count": 25,
   "id": "6e8afbcf",
   "metadata": {},
   "outputs": [],
   "source": [
    "numerical_features =['Agent_Age',\n",
    " 'Agent_Rating',\n",
    " 'Store_Latitude',\n",
    " 'Store_Longitude',\n",
    " 'Drop_Latitude',\n",
    " 'Drop_Longitude',\n",
    " 'Time_to_Pickup',\n",
    " 'Order_Hour',\n",
    " 'Order_Day',\n",
    " 'Order_Month',\n",
    " 'Order_Weekday']"
   ]
  },
  {
   "cell_type": "code",
   "execution_count": null,
   "id": "7d6b5747",
   "metadata": {},
   "outputs": [],
   "source": [
    "from sklearn.model_selection import train_test_split\n",
    "from sklearn.preprocessing import StandardScaler, OneHotEncoder\n",
    "from sklearn.compose import ColumnTransformer\n",
    "from sklearn.pipeline import Pipeline\n",
    "from sklearn.ensemble import RandomForestRegressor, GradientBoostingRegressor \n",
    "from xgboost import XGBRegressor\n",
    "from sklearn.linear_model import LinearRegression\n",
    "from sklearn.metrics import mean_squared_error, mean_absolute_error, r2_score"
   ]
  },
  {
   "cell_type": "code",
   "execution_count": 27,
   "id": "c0184f47",
   "metadata": {},
   "outputs": [],
   "source": [
    "preprocessor = ColumnTransformer(\n",
    "        transformers=[\n",
    "            ('num', StandardScaler(), numerical_features),\n",
    "            ('cat', OneHotEncoder(handle_unknown='ignore'), categorical_features)\n",
    "        ])"
   ]
  },
  {
   "cell_type": "code",
   "execution_count": 28,
   "id": "8696cd27",
   "metadata": {},
   "outputs": [
    {
     "data": {
      "text/plain": [
       "['preprocessor.pkl']"
      ]
     },
     "execution_count": 28,
     "metadata": {},
     "output_type": "execute_result"
    }
   ],
   "source": [
    "import joblib\n",
    "joblib.dump(preprocessor,\"preprocessor.pkl\")"
   ]
  },
  {
   "cell_type": "code",
   "execution_count": 29,
   "id": "a37bbfad",
   "metadata": {},
   "outputs": [],
   "source": [
    "models = {\n",
    "        'Linear Regression': LinearRegression(),\n",
    "        'Random Forest': RandomForestRegressor(n_estimators=200, random_state=42),\n",
    "        'Gradient Boosting': GradientBoostingRegressor(n_estimators=200, random_state=42),\n",
    "        'XGBoost': XGBRegressor(n_estimators=200, random_state=42)\n",
    "    }"
   ]
  },
  {
   "cell_type": "code",
   "execution_count": 30,
   "id": "b0f2df24",
   "metadata": {},
   "outputs": [],
   "source": [
    "X_train, X_test, y_train, y_test = train_test_split(\n",
    "        X, y, test_size=0.2, random_state=42)"
   ]
  },
  {
   "cell_type": "code",
   "execution_count": 31,
   "id": "baf3dcb9",
   "metadata": {},
   "outputs": [],
   "source": [
    "X_train_pre = preprocessor.fit_transform(X_train)\n",
    "X_test_pre = preprocessor.transform(X_test)"
   ]
  },
  {
   "cell_type": "code",
   "execution_count": 32,
   "id": "96fe5e77",
   "metadata": {},
   "outputs": [
    {
     "name": "stdout",
     "output_type": "stream",
     "text": [
      "0.9657386438032822\n"
     ]
    },
    {
     "data": {
      "text/plain": [
       "0.7505925654309935"
      ]
     },
     "execution_count": 32,
     "metadata": {},
     "output_type": "execute_result"
    }
   ],
   "source": [
    "rf = RandomForestRegressor()\n",
    "rf.fit(X_train_pre,y_train)\n",
    "print(rf.score(X_train_pre,y_train))\n",
    "prd= rf.predict(X_test_pre)\n",
    "r2_score(y_test,prd)"
   ]
  },
  {
   "cell_type": "code",
   "execution_count": 33,
   "id": "6f1b0ef4",
   "metadata": {},
   "outputs": [
    {
     "name": "stdout",
     "output_type": "stream",
     "text": [
      "0.8514423370361328\n"
     ]
    },
    {
     "data": {
      "text/plain": [
       "0.7905992865562439"
      ]
     },
     "execution_count": 33,
     "metadata": {},
     "output_type": "execute_result"
    }
   ],
   "source": [
    "xgb = XGBRegressor()\n",
    "xgb.fit(X_train_pre,y_train)\n",
    "print(xgb.score(X_train_pre,y_train))\n",
    "prd= xgb.predict(X_test_pre)\n",
    "r2_score(y_test,prd)"
   ]
  },
  {
   "cell_type": "code",
   "execution_count": 34,
   "id": "71ecf4df",
   "metadata": {},
   "outputs": [],
   "source": [
    "from sklearn.metrics import mean_squared_error, mean_absolute_error, r2_score\n",
    "import mlflow\n",
    "import mlflow.sklearn\n",
    "import streamlit as st\n",
    "import matplotlib.pyplot as plt\n",
    "import seaborn as sns"
   ]
  },
  {
   "cell_type": "code",
   "execution_count": 35,
   "id": "85e2f507",
   "metadata": {},
   "outputs": [
    {
     "name": "stderr",
     "output_type": "stream",
     "text": [
      "d:\\anaconda\\envs\\house_pro\\lib\\site-packages\\_distutils_hack\\__init__.py:33: UserWarning: Setuptools is replacing distutils.\n",
      "  warnings.warn(\"Setuptools is replacing distutils.\")\n"
     ]
    },
    {
     "name": "stdout",
     "output_type": "stream",
     "text": [
      "Linear Regression:\n",
      "  RMSE: 32.18\n",
      "  MAE: 25.51\n",
      "  R2: 0.6063\n",
      "Random Forest:\n",
      "  RMSE: 25.57\n",
      "  MAE: 19.55\n",
      "  R2: 0.7513\n",
      "Gradient Boosting:\n",
      "  RMSE: 26.26\n",
      "  MAE: 20.41\n",
      "  R2: 0.7379\n",
      "XGBoost:\n",
      "  RMSE: 23.87\n",
      "  MAE: 18.66\n",
      "  R2: 0.7834\n"
     ]
    }
   ],
   "source": [
    "best_model = None\n",
    "best_r2 = -np.inf\n",
    "mlflow.set_experiment(\"Amazon_Delivery_Time_Prediction\")\n",
    "\n",
    "\n",
    "for model_name, model in models.items():\n",
    "    with mlflow.start_run(run_name=model_name):\n",
    "        \n",
    "        pipeline = Pipeline(steps=[\n",
    "            ('preprocessor', preprocessor),\n",
    "            ('regressor', model)\n",
    "        ])\n",
    "        \n",
    "        \n",
    "        pipeline.fit(X_train, y_train)\n",
    "        \n",
    "        \n",
    "        y_pred = pipeline.predict(X_test)\n",
    "        \n",
    "        \n",
    "        rmse = np.sqrt(mean_squared_error(y_test, y_pred))\n",
    "        mae = mean_absolute_error(y_test, y_pred)\n",
    "        r2 = r2_score(y_test, y_pred)\n",
    "        \n",
    "       \n",
    "        mlflow.log_metric(\"RMSE\", rmse)\n",
    "        mlflow.log_metric(\"MAE\", mae)\n",
    "        mlflow.log_metric(\"R2\", r2)\n",
    "        \n",
    "        \n",
    "        mlflow.sklearn.log_model(pipeline, model_name)\n",
    "        \n",
    "        \n",
    "        if r2 > best_r2:\n",
    "            best_r2 = r2\n",
    "            best_model = pipeline\n",
    "            \n",
    "        print(f\"{model_name}:\")\n",
    "        print(f\"  RMSE: {rmse:.2f}\")\n",
    "        print(f\"  MAE: {mae:.2f}\")\n",
    "        print(f\"  R2: {r2:.4f}\")"
   ]
  },
  {
   "cell_type": "code",
   "execution_count": 36,
   "id": "472ca32e",
   "metadata": {},
   "outputs": [
    {
     "name": "stdout",
     "output_type": "stream",
     "text": [
      "Best model based on R2: XGBRegressor\n",
      "Best R2 score: 0.7834\n"
     ]
    }
   ],
   "source": [
    "\n",
    "if best_model:\n",
    "    best_model_name = best_model.named_steps['regressor'].__class__.__name__\n",
    "    print(f\"Best model based on R2: {best_model_name}\")\n",
    "    print(f\"Best R2 score: {best_r2:.4f}\")\n",
    "else:\n",
    "    print(\"No model was evaluated.\")\n"
   ]
  },
  {
   "cell_type": "code",
   "execution_count": 37,
   "id": "36ace2cd",
   "metadata": {},
   "outputs": [
    {
     "data": {
      "text/plain": [
       "['Weather', 'Traffic', 'Vehicle', 'Area', 'Category']"
      ]
     },
     "execution_count": 37,
     "metadata": {},
     "output_type": "execute_result"
    }
   ],
   "source": [
    "categorical_features"
   ]
  },
  {
   "cell_type": "code",
   "execution_count": null,
   "id": "98809339",
   "metadata": {},
   "outputs": [],
   "source": []
  }
 ],
 "metadata": {
  "kernelspec": {
   "display_name": "house_pro",
   "language": "python",
   "name": "python3"
  },
  "language_info": {
   "codemirror_mode": {
    "name": "ipython",
    "version": 3
   },
   "file_extension": ".py",
   "mimetype": "text/x-python",
   "name": "python",
   "nbconvert_exporter": "python",
   "pygments_lexer": "ipython3",
   "version": "3.10.0"
  }
 },
 "nbformat": 4,
 "nbformat_minor": 5
}
